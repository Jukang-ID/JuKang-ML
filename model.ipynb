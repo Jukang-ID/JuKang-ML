{
 "cells": [
  {
   "cell_type": "markdown",
   "metadata": {
    "id": "S2gvWlsJXm-V"
   },
   "source": [
    "> ## **Recommendation By Search 🔍**\n",
    "> This model uses RNN-LSTM as a text processing method, to be trained and evaluated with evaluation metrics (accuracy, precision, recall, and F1 score) and confusion matrix, to generate accurate recommendations based on the user's search problem input."
   ]
  },
  {
   "cell_type": "markdown",
   "metadata": {
    "id": "lyZI-XC0Aa8A"
   },
   "source": [
    "### Import Library"
   ]
  },
  {
   "cell_type": "code",
   "execution_count": 1,
   "metadata": {
    "colab": {
     "base_uri": "https://localhost:8080/"
    },
    "id": "uLviN68N0Y-k",
    "outputId": "f5843b7d-a214-43a4-cda6-beb418a847d3"
   },
   "outputs": [
    {
     "name": "stdout",
     "output_type": "stream",
     "text": [
      "Requirement already satisfied: Sastrawi in /usr/local/lib/python3.10/dist-packages (1.0.1)\n"
     ]
    }
   ],
   "source": [
    "!pip install Sastrawi"
   ]
  },
  {
   "cell_type": "code",
   "execution_count": 38,
   "metadata": {
    "colab": {
     "base_uri": "https://localhost:8080/"
    },
    "id": "-ogbVpiftcee",
    "outputId": "3ab1e13f-bd15-433b-b57f-493b42a9193f"
   },
   "outputs": [
    {
     "name": "stderr",
     "output_type": "stream",
     "text": [
      "[nltk_data] Downloading package punkt to /root/nltk_data...\n",
      "[nltk_data]   Package punkt is already up-to-date!\n",
      "[nltk_data] Downloading package punkt_tab to /root/nltk_data...\n",
      "[nltk_data]   Package punkt_tab is already up-to-date!\n"
     ]
    }
   ],
   "source": [
    "import numpy as np\n",
    "import pandas as pd\n",
    "import nltk\n",
    "nltk.download('punkt')\n",
    "nltk.download('punkt_tab')\n",
    "from nltk.tokenize import word_tokenize\n",
    "from sklearn.feature_extraction.text import TfidfVectorizer\n",
    "from sklearn.preprocessing import LabelEncoder\n",
    "from sklearn.model_selection import train_test_split\n",
    "from sklearn.metrics import *\n",
    "from Sastrawi.StopWordRemover.StopWordRemoverFactory import StopWordRemoverFactory\n",
    "from Sastrawi.Stemmer.StemmerFactory import StemmerFactory\n",
    "import re\n",
    "import tensorflow as tf\n",
    "from tensorflow import keras\n",
    "import seaborn as sns\n",
    "import matplotlib.pyplot as plt\n",
    "import pickle"
   ]
  },
  {
   "cell_type": "markdown",
   "metadata": {
    "id": "hLeyNaOyAd8K"
   },
   "source": [
    "### Input Data"
   ]
  },
  {
   "cell_type": "code",
   "execution_count": 4,
   "metadata": {
    "id": "-b86YafKt59D"
   },
   "outputs": [],
   "source": [
    "df = pd.read_csv('text.csv')"
   ]
  },
  {
   "cell_type": "code",
   "execution_count": 5,
   "metadata": {
    "colab": {
     "base_uri": "https://localhost:8080/",
     "height": 206
    },
    "id": "zP9Q-wikx7d8",
    "outputId": "f2ffe510-b701-4038-afe1-38519c055be0"
   },
   "outputs": [
    {
     "data": {
      "application/vnd.google.colaboratory.intrinsic+json": {
       "summary": "{\n  \"name\": \"df\",\n  \"rows\": 200,\n  \"fields\": [\n    {\n      \"column\": \"text\",\n      \"properties\": {\n        \"dtype\": \"string\",\n        \"num_unique_values\": 198,\n        \"samples\": [\n          \"talang air tertutup kotoran\",\n          \"perbaikan meja retak\",\n          \"jasa perbaikan talang air\"\n        ],\n        \"semantic_type\": \"\",\n        \"description\": \"\"\n      }\n    }\n  ]\n}",
       "type": "dataframe",
       "variable_name": "df"
      },
      "text/html": [
       "\n",
       "  <div id=\"df-d97d215d-1b41-47ac-b71a-34155d8d850f\" class=\"colab-df-container\">\n",
       "    <div>\n",
       "<style scoped>\n",
       "    .dataframe tbody tr th:only-of-type {\n",
       "        vertical-align: middle;\n",
       "    }\n",
       "\n",
       "    .dataframe tbody tr th {\n",
       "        vertical-align: top;\n",
       "    }\n",
       "\n",
       "    .dataframe thead th {\n",
       "        text-align: right;\n",
       "    }\n",
       "</style>\n",
       "<table border=\"1\" class=\"dataframe\">\n",
       "  <thead>\n",
       "    <tr style=\"text-align: right;\">\n",
       "      <th></th>\n",
       "      <th>text</th>\n",
       "    </tr>\n",
       "  </thead>\n",
       "  <tbody>\n",
       "    <tr>\n",
       "      <th>0</th>\n",
       "      <td>perbaikan atap bocor</td>\n",
       "    </tr>\n",
       "    <tr>\n",
       "      <th>1</th>\n",
       "      <td>perbaikan atap rembes</td>\n",
       "    </tr>\n",
       "    <tr>\n",
       "      <th>2</th>\n",
       "      <td>perbaikan genteng bocor</td>\n",
       "    </tr>\n",
       "    <tr>\n",
       "      <th>3</th>\n",
       "      <td>perbaikan atap asbes</td>\n",
       "    </tr>\n",
       "    <tr>\n",
       "      <th>4</th>\n",
       "      <td>pemasangan genteng</td>\n",
       "    </tr>\n",
       "  </tbody>\n",
       "</table>\n",
       "</div>\n",
       "    <div class=\"colab-df-buttons\">\n",
       "\n",
       "  <div class=\"colab-df-container\">\n",
       "    <button class=\"colab-df-convert\" onclick=\"convertToInteractive('df-d97d215d-1b41-47ac-b71a-34155d8d850f')\"\n",
       "            title=\"Convert this dataframe to an interactive table.\"\n",
       "            style=\"display:none;\">\n",
       "\n",
       "  <svg xmlns=\"http://www.w3.org/2000/svg\" height=\"24px\" viewBox=\"0 -960 960 960\">\n",
       "    <path d=\"M120-120v-720h720v720H120Zm60-500h600v-160H180v160Zm220 220h160v-160H400v160Zm0 220h160v-160H400v160ZM180-400h160v-160H180v160Zm440 0h160v-160H620v160ZM180-180h160v-160H180v160Zm440 0h160v-160H620v160Z\"/>\n",
       "  </svg>\n",
       "    </button>\n",
       "\n",
       "  <style>\n",
       "    .colab-df-container {\n",
       "      display:flex;\n",
       "      gap: 12px;\n",
       "    }\n",
       "\n",
       "    .colab-df-convert {\n",
       "      background-color: #E8F0FE;\n",
       "      border: none;\n",
       "      border-radius: 50%;\n",
       "      cursor: pointer;\n",
       "      display: none;\n",
       "      fill: #1967D2;\n",
       "      height: 32px;\n",
       "      padding: 0 0 0 0;\n",
       "      width: 32px;\n",
       "    }\n",
       "\n",
       "    .colab-df-convert:hover {\n",
       "      background-color: #E2EBFA;\n",
       "      box-shadow: 0px 1px 2px rgba(60, 64, 67, 0.3), 0px 1px 3px 1px rgba(60, 64, 67, 0.15);\n",
       "      fill: #174EA6;\n",
       "    }\n",
       "\n",
       "    .colab-df-buttons div {\n",
       "      margin-bottom: 4px;\n",
       "    }\n",
       "\n",
       "    [theme=dark] .colab-df-convert {\n",
       "      background-color: #3B4455;\n",
       "      fill: #D2E3FC;\n",
       "    }\n",
       "\n",
       "    [theme=dark] .colab-df-convert:hover {\n",
       "      background-color: #434B5C;\n",
       "      box-shadow: 0px 1px 3px 1px rgba(0, 0, 0, 0.15);\n",
       "      filter: drop-shadow(0px 1px 2px rgba(0, 0, 0, 0.3));\n",
       "      fill: #FFFFFF;\n",
       "    }\n",
       "  </style>\n",
       "\n",
       "    <script>\n",
       "      const buttonEl =\n",
       "        document.querySelector('#df-d97d215d-1b41-47ac-b71a-34155d8d850f button.colab-df-convert');\n",
       "      buttonEl.style.display =\n",
       "        google.colab.kernel.accessAllowed ? 'block' : 'none';\n",
       "\n",
       "      async function convertToInteractive(key) {\n",
       "        const element = document.querySelector('#df-d97d215d-1b41-47ac-b71a-34155d8d850f');\n",
       "        const dataTable =\n",
       "          await google.colab.kernel.invokeFunction('convertToInteractive',\n",
       "                                                    [key], {});\n",
       "        if (!dataTable) return;\n",
       "\n",
       "        const docLinkHtml = 'Like what you see? Visit the ' +\n",
       "          '<a target=\"_blank\" href=https://colab.research.google.com/notebooks/data_table.ipynb>data table notebook</a>'\n",
       "          + ' to learn more about interactive tables.';\n",
       "        element.innerHTML = '';\n",
       "        dataTable['output_type'] = 'display_data';\n",
       "        await google.colab.output.renderOutput(dataTable, element);\n",
       "        const docLink = document.createElement('div');\n",
       "        docLink.innerHTML = docLinkHtml;\n",
       "        element.appendChild(docLink);\n",
       "      }\n",
       "    </script>\n",
       "  </div>\n",
       "\n",
       "\n",
       "<div id=\"df-f05ef17b-c898-454d-95bd-3d1100926d51\">\n",
       "  <button class=\"colab-df-quickchart\" onclick=\"quickchart('df-f05ef17b-c898-454d-95bd-3d1100926d51')\"\n",
       "            title=\"Suggest charts\"\n",
       "            style=\"display:none;\">\n",
       "\n",
       "<svg xmlns=\"http://www.w3.org/2000/svg\" height=\"24px\"viewBox=\"0 0 24 24\"\n",
       "     width=\"24px\">\n",
       "    <g>\n",
       "        <path d=\"M19 3H5c-1.1 0-2 .9-2 2v14c0 1.1.9 2 2 2h14c1.1 0 2-.9 2-2V5c0-1.1-.9-2-2-2zM9 17H7v-7h2v7zm4 0h-2V7h2v10zm4 0h-2v-4h2v4z\"/>\n",
       "    </g>\n",
       "</svg>\n",
       "  </button>\n",
       "\n",
       "<style>\n",
       "  .colab-df-quickchart {\n",
       "      --bg-color: #E8F0FE;\n",
       "      --fill-color: #1967D2;\n",
       "      --hover-bg-color: #E2EBFA;\n",
       "      --hover-fill-color: #174EA6;\n",
       "      --disabled-fill-color: #AAA;\n",
       "      --disabled-bg-color: #DDD;\n",
       "  }\n",
       "\n",
       "  [theme=dark] .colab-df-quickchart {\n",
       "      --bg-color: #3B4455;\n",
       "      --fill-color: #D2E3FC;\n",
       "      --hover-bg-color: #434B5C;\n",
       "      --hover-fill-color: #FFFFFF;\n",
       "      --disabled-bg-color: #3B4455;\n",
       "      --disabled-fill-color: #666;\n",
       "  }\n",
       "\n",
       "  .colab-df-quickchart {\n",
       "    background-color: var(--bg-color);\n",
       "    border: none;\n",
       "    border-radius: 50%;\n",
       "    cursor: pointer;\n",
       "    display: none;\n",
       "    fill: var(--fill-color);\n",
       "    height: 32px;\n",
       "    padding: 0;\n",
       "    width: 32px;\n",
       "  }\n",
       "\n",
       "  .colab-df-quickchart:hover {\n",
       "    background-color: var(--hover-bg-color);\n",
       "    box-shadow: 0 1px 2px rgba(60, 64, 67, 0.3), 0 1px 3px 1px rgba(60, 64, 67, 0.15);\n",
       "    fill: var(--button-hover-fill-color);\n",
       "  }\n",
       "\n",
       "  .colab-df-quickchart-complete:disabled,\n",
       "  .colab-df-quickchart-complete:disabled:hover {\n",
       "    background-color: var(--disabled-bg-color);\n",
       "    fill: var(--disabled-fill-color);\n",
       "    box-shadow: none;\n",
       "  }\n",
       "\n",
       "  .colab-df-spinner {\n",
       "    border: 2px solid var(--fill-color);\n",
       "    border-color: transparent;\n",
       "    border-bottom-color: var(--fill-color);\n",
       "    animation:\n",
       "      spin 1s steps(1) infinite;\n",
       "  }\n",
       "\n",
       "  @keyframes spin {\n",
       "    0% {\n",
       "      border-color: transparent;\n",
       "      border-bottom-color: var(--fill-color);\n",
       "      border-left-color: var(--fill-color);\n",
       "    }\n",
       "    20% {\n",
       "      border-color: transparent;\n",
       "      border-left-color: var(--fill-color);\n",
       "      border-top-color: var(--fill-color);\n",
       "    }\n",
       "    30% {\n",
       "      border-color: transparent;\n",
       "      border-left-color: var(--fill-color);\n",
       "      border-top-color: var(--fill-color);\n",
       "      border-right-color: var(--fill-color);\n",
       "    }\n",
       "    40% {\n",
       "      border-color: transparent;\n",
       "      border-right-color: var(--fill-color);\n",
       "      border-top-color: var(--fill-color);\n",
       "    }\n",
       "    60% {\n",
       "      border-color: transparent;\n",
       "      border-right-color: var(--fill-color);\n",
       "    }\n",
       "    80% {\n",
       "      border-color: transparent;\n",
       "      border-right-color: var(--fill-color);\n",
       "      border-bottom-color: var(--fill-color);\n",
       "    }\n",
       "    90% {\n",
       "      border-color: transparent;\n",
       "      border-bottom-color: var(--fill-color);\n",
       "    }\n",
       "  }\n",
       "</style>\n",
       "\n",
       "  <script>\n",
       "    async function quickchart(key) {\n",
       "      const quickchartButtonEl =\n",
       "        document.querySelector('#' + key + ' button');\n",
       "      quickchartButtonEl.disabled = true;  // To prevent multiple clicks.\n",
       "      quickchartButtonEl.classList.add('colab-df-spinner');\n",
       "      try {\n",
       "        const charts = await google.colab.kernel.invokeFunction(\n",
       "            'suggestCharts', [key], {});\n",
       "      } catch (error) {\n",
       "        console.error('Error during call to suggestCharts:', error);\n",
       "      }\n",
       "      quickchartButtonEl.classList.remove('colab-df-spinner');\n",
       "      quickchartButtonEl.classList.add('colab-df-quickchart-complete');\n",
       "    }\n",
       "    (() => {\n",
       "      let quickchartButtonEl =\n",
       "        document.querySelector('#df-f05ef17b-c898-454d-95bd-3d1100926d51 button');\n",
       "      quickchartButtonEl.style.display =\n",
       "        google.colab.kernel.accessAllowed ? 'block' : 'none';\n",
       "    })();\n",
       "  </script>\n",
       "</div>\n",
       "\n",
       "    </div>\n",
       "  </div>\n"
      ],
      "text/plain": [
       "                      text\n",
       "0     perbaikan atap bocor\n",
       "1    perbaikan atap rembes\n",
       "2  perbaikan genteng bocor\n",
       "3     perbaikan atap asbes\n",
       "4       pemasangan genteng"
      ]
     },
     "execution_count": 5,
     "metadata": {},
     "output_type": "execute_result"
    }
   ],
   "source": [
    "df.head()"
   ]
  },
  {
   "cell_type": "markdown",
   "metadata": {
    "id": "UcUsVc6uAWsG"
   },
   "source": [
    "### Explore Data"
   ]
  },
  {
   "cell_type": "code",
   "execution_count": 12,
   "metadata": {
    "id": "697E6k1u-XZB"
   },
   "outputs": [],
   "source": [
    "# Explore data (preprocessing)\n",
    "# tokenizing, lowercasing, remove stopwords, stemming dan bersihkan karakter khusus\n",
    "\n",
    "# inisialisasi StopWordRemover dan Stemmer\n",
    "stopword_factory = StopWordRemoverFactory()\n",
    "stopword_remover = stopword_factory.create_stop_word_remover()\n",
    "stemmer_factory = StemmerFactory()\n",
    "stemmer = stemmer_factory.create_stemmer()\n",
    "\n",
    "# fungsi cleaning text dari karakter khusus dan angka\n",
    "def remove_special_characters_and_numbers(text):\n",
    "    return re.sub(r'[^a-zA-Z\\s]', '', text)\n",
    "\n",
    "df['tokenized_text'] = df['text'].apply(word_tokenize)\n",
    "df['lowercased_text'] = df['text'].str.lower()\n",
    "df['stopwords_removed'] = df['lowercased_text'].apply(lambda x: stopword_remover.remove(x))\n",
    "df['stemmed_text'] = df['stopwords_removed'].apply(lambda x: stemmer.stem(x))\n",
    "df['cleaned_text'] = df['stemmed_text'].apply(remove_special_characters_and_numbers)"
   ]
  },
  {
   "cell_type": "code",
   "execution_count": 18,
   "metadata": {
    "colab": {
     "base_uri": "https://localhost:8080/",
     "height": 293
    },
    "id": "LrL55LZkhth_",
    "outputId": "fa2e9de3-ade9-4451-a7a3-5b206ddd6392"
   },
   "outputs": [
    {
     "data": {
      "application/vnd.google.colaboratory.intrinsic+json": {
       "summary": "{\n  \"name\": \"df\",\n  \"rows\": 200,\n  \"fields\": [\n    {\n      \"column\": \"text\",\n      \"properties\": {\n        \"dtype\": \"string\",\n        \"num_unique_values\": 198,\n        \"samples\": [\n          \"talang air tertutup kotoran\",\n          \"perbaikan meja retak\",\n          \"jasa perbaikan talang air\"\n        ],\n        \"semantic_type\": \"\",\n        \"description\": \"\"\n      }\n    },\n    {\n      \"column\": \"tokenized_text\",\n      \"properties\": {\n        \"dtype\": \"object\",\n        \"semantic_type\": \"\",\n        \"description\": \"\"\n      }\n    },\n    {\n      \"column\": \"lowercased_text\",\n      \"properties\": {\n        \"dtype\": \"string\",\n        \"num_unique_values\": 198,\n        \"samples\": [\n          \"talang air tertutup kotoran\",\n          \"perbaikan meja retak\",\n          \"jasa perbaikan talang air\"\n        ],\n        \"semantic_type\": \"\",\n        \"description\": \"\"\n      }\n    },\n    {\n      \"column\": \"stopwords_removed\",\n      \"properties\": {\n        \"dtype\": \"string\",\n        \"num_unique_values\": 198,\n        \"samples\": [\n          \"talang air tertutup kotoran\",\n          \"perbaikan meja retak\",\n          \"jasa perbaikan talang air\"\n        ],\n        \"semantic_type\": \"\",\n        \"description\": \"\"\n      }\n    },\n    {\n      \"column\": \"stemmed_text\",\n      \"properties\": {\n        \"dtype\": \"string\",\n        \"num_unique_values\": 198,\n        \"samples\": [\n          \"talang air tutup kotor\",\n          \"baik meja retak\",\n          \"jasa baik talang air\"\n        ],\n        \"semantic_type\": \"\",\n        \"description\": \"\"\n      }\n    },\n    {\n      \"column\": \"cleaned_text\",\n      \"properties\": {\n        \"dtype\": \"string\",\n        \"num_unique_values\": 198,\n        \"samples\": [\n          \"talang air tutup kotor\",\n          \"baik meja retak\",\n          \"jasa baik talang air\"\n        ],\n        \"semantic_type\": \"\",\n        \"description\": \"\"\n      }\n    },\n    {\n      \"column\": \"cleaned_text_dict\",\n      \"properties\": {\n        \"dtype\": \"object\",\n        \"semantic_type\": \"\",\n        \"description\": \"\"\n      }\n    }\n  ]\n}",
       "type": "dataframe",
       "variable_name": "df"
      },
      "text/html": [
       "\n",
       "  <div id=\"df-aa77edc6-7768-489b-9329-f3581e808c46\" class=\"colab-df-container\">\n",
       "    <div>\n",
       "<style scoped>\n",
       "    .dataframe tbody tr th:only-of-type {\n",
       "        vertical-align: middle;\n",
       "    }\n",
       "\n",
       "    .dataframe tbody tr th {\n",
       "        vertical-align: top;\n",
       "    }\n",
       "\n",
       "    .dataframe thead th {\n",
       "        text-align: right;\n",
       "    }\n",
       "</style>\n",
       "<table border=\"1\" class=\"dataframe\">\n",
       "  <thead>\n",
       "    <tr style=\"text-align: right;\">\n",
       "      <th></th>\n",
       "      <th>text</th>\n",
       "      <th>tokenized_text</th>\n",
       "      <th>lowercased_text</th>\n",
       "      <th>stopwords_removed</th>\n",
       "      <th>stemmed_text</th>\n",
       "      <th>cleaned_text</th>\n",
       "      <th>cleaned_text_dict</th>\n",
       "    </tr>\n",
       "  </thead>\n",
       "  <tbody>\n",
       "    <tr>\n",
       "      <th>0</th>\n",
       "      <td>perbaikan atap bocor</td>\n",
       "      <td>[perbaikan, atap, bocor]</td>\n",
       "      <td>perbaikan atap bocor</td>\n",
       "      <td>perbaikan atap bocor</td>\n",
       "      <td>baik atap bocor</td>\n",
       "      <td>baik atap bocor</td>\n",
       "      <td>{'baik': 1, 'atap': 1, 'bocor': 1}</td>\n",
       "    </tr>\n",
       "    <tr>\n",
       "      <th>1</th>\n",
       "      <td>perbaikan atap rembes</td>\n",
       "      <td>[perbaikan, atap, rembes]</td>\n",
       "      <td>perbaikan atap rembes</td>\n",
       "      <td>perbaikan atap rembes</td>\n",
       "      <td>baik atap rembes</td>\n",
       "      <td>baik atap rembes</td>\n",
       "      <td>{'baik': 1, 'atap': 1, 'rembes': 1}</td>\n",
       "    </tr>\n",
       "    <tr>\n",
       "      <th>2</th>\n",
       "      <td>perbaikan genteng bocor</td>\n",
       "      <td>[perbaikan, genteng, bocor]</td>\n",
       "      <td>perbaikan genteng bocor</td>\n",
       "      <td>perbaikan genteng bocor</td>\n",
       "      <td>baik genteng bocor</td>\n",
       "      <td>baik genteng bocor</td>\n",
       "      <td>{'baik': 1, 'genteng': 1, 'bocor': 1}</td>\n",
       "    </tr>\n",
       "    <tr>\n",
       "      <th>3</th>\n",
       "      <td>perbaikan atap asbes</td>\n",
       "      <td>[perbaikan, atap, asbes]</td>\n",
       "      <td>perbaikan atap asbes</td>\n",
       "      <td>perbaikan atap asbes</td>\n",
       "      <td>baik atap asbes</td>\n",
       "      <td>baik atap asbes</td>\n",
       "      <td>{'baik': 1, 'atap': 1, 'asbes': 1}</td>\n",
       "    </tr>\n",
       "    <tr>\n",
       "      <th>4</th>\n",
       "      <td>pemasangan genteng</td>\n",
       "      <td>[pemasangan, genteng]</td>\n",
       "      <td>pemasangan genteng</td>\n",
       "      <td>pemasangan genteng</td>\n",
       "      <td>pasang genteng</td>\n",
       "      <td>pasang genteng</td>\n",
       "      <td>{'pasang': 1, 'genteng': 1}</td>\n",
       "    </tr>\n",
       "  </tbody>\n",
       "</table>\n",
       "</div>\n",
       "    <div class=\"colab-df-buttons\">\n",
       "\n",
       "  <div class=\"colab-df-container\">\n",
       "    <button class=\"colab-df-convert\" onclick=\"convertToInteractive('df-aa77edc6-7768-489b-9329-f3581e808c46')\"\n",
       "            title=\"Convert this dataframe to an interactive table.\"\n",
       "            style=\"display:none;\">\n",
       "\n",
       "  <svg xmlns=\"http://www.w3.org/2000/svg\" height=\"24px\" viewBox=\"0 -960 960 960\">\n",
       "    <path d=\"M120-120v-720h720v720H120Zm60-500h600v-160H180v160Zm220 220h160v-160H400v160Zm0 220h160v-160H400v160ZM180-400h160v-160H180v160Zm440 0h160v-160H620v160ZM180-180h160v-160H180v160Zm440 0h160v-160H620v160Z\"/>\n",
       "  </svg>\n",
       "    </button>\n",
       "\n",
       "  <style>\n",
       "    .colab-df-container {\n",
       "      display:flex;\n",
       "      gap: 12px;\n",
       "    }\n",
       "\n",
       "    .colab-df-convert {\n",
       "      background-color: #E8F0FE;\n",
       "      border: none;\n",
       "      border-radius: 50%;\n",
       "      cursor: pointer;\n",
       "      display: none;\n",
       "      fill: #1967D2;\n",
       "      height: 32px;\n",
       "      padding: 0 0 0 0;\n",
       "      width: 32px;\n",
       "    }\n",
       "\n",
       "    .colab-df-convert:hover {\n",
       "      background-color: #E2EBFA;\n",
       "      box-shadow: 0px 1px 2px rgba(60, 64, 67, 0.3), 0px 1px 3px 1px rgba(60, 64, 67, 0.15);\n",
       "      fill: #174EA6;\n",
       "    }\n",
       "\n",
       "    .colab-df-buttons div {\n",
       "      margin-bottom: 4px;\n",
       "    }\n",
       "\n",
       "    [theme=dark] .colab-df-convert {\n",
       "      background-color: #3B4455;\n",
       "      fill: #D2E3FC;\n",
       "    }\n",
       "\n",
       "    [theme=dark] .colab-df-convert:hover {\n",
       "      background-color: #434B5C;\n",
       "      box-shadow: 0px 1px 3px 1px rgba(0, 0, 0, 0.15);\n",
       "      filter: drop-shadow(0px 1px 2px rgba(0, 0, 0, 0.3));\n",
       "      fill: #FFFFFF;\n",
       "    }\n",
       "  </style>\n",
       "\n",
       "    <script>\n",
       "      const buttonEl =\n",
       "        document.querySelector('#df-aa77edc6-7768-489b-9329-f3581e808c46 button.colab-df-convert');\n",
       "      buttonEl.style.display =\n",
       "        google.colab.kernel.accessAllowed ? 'block' : 'none';\n",
       "\n",
       "      async function convertToInteractive(key) {\n",
       "        const element = document.querySelector('#df-aa77edc6-7768-489b-9329-f3581e808c46');\n",
       "        const dataTable =\n",
       "          await google.colab.kernel.invokeFunction('convertToInteractive',\n",
       "                                                    [key], {});\n",
       "        if (!dataTable) return;\n",
       "\n",
       "        const docLinkHtml = 'Like what you see? Visit the ' +\n",
       "          '<a target=\"_blank\" href=https://colab.research.google.com/notebooks/data_table.ipynb>data table notebook</a>'\n",
       "          + ' to learn more about interactive tables.';\n",
       "        element.innerHTML = '';\n",
       "        dataTable['output_type'] = 'display_data';\n",
       "        await google.colab.output.renderOutput(dataTable, element);\n",
       "        const docLink = document.createElement('div');\n",
       "        docLink.innerHTML = docLinkHtml;\n",
       "        element.appendChild(docLink);\n",
       "      }\n",
       "    </script>\n",
       "  </div>\n",
       "\n",
       "\n",
       "<div id=\"df-5eeff0cf-16ae-4e45-823c-2dd6aad789d2\">\n",
       "  <button class=\"colab-df-quickchart\" onclick=\"quickchart('df-5eeff0cf-16ae-4e45-823c-2dd6aad789d2')\"\n",
       "            title=\"Suggest charts\"\n",
       "            style=\"display:none;\">\n",
       "\n",
       "<svg xmlns=\"http://www.w3.org/2000/svg\" height=\"24px\"viewBox=\"0 0 24 24\"\n",
       "     width=\"24px\">\n",
       "    <g>\n",
       "        <path d=\"M19 3H5c-1.1 0-2 .9-2 2v14c0 1.1.9 2 2 2h14c1.1 0 2-.9 2-2V5c0-1.1-.9-2-2-2zM9 17H7v-7h2v7zm4 0h-2V7h2v10zm4 0h-2v-4h2v4z\"/>\n",
       "    </g>\n",
       "</svg>\n",
       "  </button>\n",
       "\n",
       "<style>\n",
       "  .colab-df-quickchart {\n",
       "      --bg-color: #E8F0FE;\n",
       "      --fill-color: #1967D2;\n",
       "      --hover-bg-color: #E2EBFA;\n",
       "      --hover-fill-color: #174EA6;\n",
       "      --disabled-fill-color: #AAA;\n",
       "      --disabled-bg-color: #DDD;\n",
       "  }\n",
       "\n",
       "  [theme=dark] .colab-df-quickchart {\n",
       "      --bg-color: #3B4455;\n",
       "      --fill-color: #D2E3FC;\n",
       "      --hover-bg-color: #434B5C;\n",
       "      --hover-fill-color: #FFFFFF;\n",
       "      --disabled-bg-color: #3B4455;\n",
       "      --disabled-fill-color: #666;\n",
       "  }\n",
       "\n",
       "  .colab-df-quickchart {\n",
       "    background-color: var(--bg-color);\n",
       "    border: none;\n",
       "    border-radius: 50%;\n",
       "    cursor: pointer;\n",
       "    display: none;\n",
       "    fill: var(--fill-color);\n",
       "    height: 32px;\n",
       "    padding: 0;\n",
       "    width: 32px;\n",
       "  }\n",
       "\n",
       "  .colab-df-quickchart:hover {\n",
       "    background-color: var(--hover-bg-color);\n",
       "    box-shadow: 0 1px 2px rgba(60, 64, 67, 0.3), 0 1px 3px 1px rgba(60, 64, 67, 0.15);\n",
       "    fill: var(--button-hover-fill-color);\n",
       "  }\n",
       "\n",
       "  .colab-df-quickchart-complete:disabled,\n",
       "  .colab-df-quickchart-complete:disabled:hover {\n",
       "    background-color: var(--disabled-bg-color);\n",
       "    fill: var(--disabled-fill-color);\n",
       "    box-shadow: none;\n",
       "  }\n",
       "\n",
       "  .colab-df-spinner {\n",
       "    border: 2px solid var(--fill-color);\n",
       "    border-color: transparent;\n",
       "    border-bottom-color: var(--fill-color);\n",
       "    animation:\n",
       "      spin 1s steps(1) infinite;\n",
       "  }\n",
       "\n",
       "  @keyframes spin {\n",
       "    0% {\n",
       "      border-color: transparent;\n",
       "      border-bottom-color: var(--fill-color);\n",
       "      border-left-color: var(--fill-color);\n",
       "    }\n",
       "    20% {\n",
       "      border-color: transparent;\n",
       "      border-left-color: var(--fill-color);\n",
       "      border-top-color: var(--fill-color);\n",
       "    }\n",
       "    30% {\n",
       "      border-color: transparent;\n",
       "      border-left-color: var(--fill-color);\n",
       "      border-top-color: var(--fill-color);\n",
       "      border-right-color: var(--fill-color);\n",
       "    }\n",
       "    40% {\n",
       "      border-color: transparent;\n",
       "      border-right-color: var(--fill-color);\n",
       "      border-top-color: var(--fill-color);\n",
       "    }\n",
       "    60% {\n",
       "      border-color: transparent;\n",
       "      border-right-color: var(--fill-color);\n",
       "    }\n",
       "    80% {\n",
       "      border-color: transparent;\n",
       "      border-right-color: var(--fill-color);\n",
       "      border-bottom-color: var(--fill-color);\n",
       "    }\n",
       "    90% {\n",
       "      border-color: transparent;\n",
       "      border-bottom-color: var(--fill-color);\n",
       "    }\n",
       "  }\n",
       "</style>\n",
       "\n",
       "  <script>\n",
       "    async function quickchart(key) {\n",
       "      const quickchartButtonEl =\n",
       "        document.querySelector('#' + key + ' button');\n",
       "      quickchartButtonEl.disabled = true;  // To prevent multiple clicks.\n",
       "      quickchartButtonEl.classList.add('colab-df-spinner');\n",
       "      try {\n",
       "        const charts = await google.colab.kernel.invokeFunction(\n",
       "            'suggestCharts', [key], {});\n",
       "      } catch (error) {\n",
       "        console.error('Error during call to suggestCharts:', error);\n",
       "      }\n",
       "      quickchartButtonEl.classList.remove('colab-df-spinner');\n",
       "      quickchartButtonEl.classList.add('colab-df-quickchart-complete');\n",
       "    }\n",
       "    (() => {\n",
       "      let quickchartButtonEl =\n",
       "        document.querySelector('#df-5eeff0cf-16ae-4e45-823c-2dd6aad789d2 button');\n",
       "      quickchartButtonEl.style.display =\n",
       "        google.colab.kernel.accessAllowed ? 'block' : 'none';\n",
       "    })();\n",
       "  </script>\n",
       "</div>\n",
       "\n",
       "    </div>\n",
       "  </div>\n"
      ],
      "text/plain": [
       "                      text               tokenized_text  \\\n",
       "0     perbaikan atap bocor     [perbaikan, atap, bocor]   \n",
       "1    perbaikan atap rembes    [perbaikan, atap, rembes]   \n",
       "2  perbaikan genteng bocor  [perbaikan, genteng, bocor]   \n",
       "3     perbaikan atap asbes     [perbaikan, atap, asbes]   \n",
       "4       pemasangan genteng        [pemasangan, genteng]   \n",
       "\n",
       "           lowercased_text        stopwords_removed        stemmed_text  \\\n",
       "0     perbaikan atap bocor     perbaikan atap bocor     baik atap bocor   \n",
       "1    perbaikan atap rembes    perbaikan atap rembes    baik atap rembes   \n",
       "2  perbaikan genteng bocor  perbaikan genteng bocor  baik genteng bocor   \n",
       "3     perbaikan atap asbes     perbaikan atap asbes     baik atap asbes   \n",
       "4       pemasangan genteng       pemasangan genteng      pasang genteng   \n",
       "\n",
       "         cleaned_text                      cleaned_text_dict  \n",
       "0     baik atap bocor     {'baik': 1, 'atap': 1, 'bocor': 1}  \n",
       "1    baik atap rembes    {'baik': 1, 'atap': 1, 'rembes': 1}  \n",
       "2  baik genteng bocor  {'baik': 1, 'genteng': 1, 'bocor': 1}  \n",
       "3     baik atap asbes     {'baik': 1, 'atap': 1, 'asbes': 1}  \n",
       "4      pasang genteng            {'pasang': 1, 'genteng': 1}  "
      ]
     },
     "execution_count": 18,
     "metadata": {},
     "output_type": "execute_result"
    }
   ],
   "source": [
    "# ubah cleaned_text jadi dictionary\n",
    "\n",
    "from collections import Counter\n",
    "def create_dictionary(text):\n",
    "    return dict(Counter(text.split()))\n",
    "\n",
    "df['cleaned_text_dict'] = df['cleaned_text'].apply(create_dictionary)\n",
    "df.head()"
   ]
  },
  {
   "cell_type": "code",
   "execution_count": 17,
   "metadata": {
    "colab": {
     "base_uri": "https://localhost:8080/"
    },
    "id": "8YVn5X7ph6ZE",
    "outputId": "ca46b302-056e-4a8c-fc9d-ec508ec86194"
   },
   "outputs": [
    {
     "name": "stdout",
     "output_type": "stream",
     "text": [
      "{'baik': 53, 'atap': 19, 'bocor': 14, 'rembes': 1, 'genteng': 8, 'asbes': 1, 'pasang': 40, 'baja': 1, 'ringan': 2, 'jasa': 45, 'isolasi': 1, 'plafon': 2, 'ganti': 28, 'cat': 6, 'ulang': 4, 'pudar': 1, 'tambal': 8, 'bongkar': 5, 'dak': 1, 'beton': 1, 'talang': 7, 'air': 34, 'kerangka': 2, 'awat': 1, 'metal': 2, 'roofing': 1, 'kaca': 5, 'polikarbonat': 1, 'plank': 1, 'pasir': 1, 'sirap': 1, 'kayu': 9, 'ulin': 1, 'upvc': 1, 'keramik': 6, 'glazur': 1, 'seng': 1, 'alumunium': 1, 'wc': 2, 'sumbat': 4, 'instalasi': 22, 'pompa': 6, 'sambung': 2, 'pipa': 13, 'keran': 4, 'rusak': 13, 'baru': 8, 'salur': 12, 'mampet': 3, 'kamar': 1, 'mandi': 2, 'bersih': 4, 'drainase': 1, 'closet': 1, 'bak': 1, 'shower': 2, 'buang': 2, 'hujan': 1, 'luap': 1, 'sumur': 2, 'kotor': 3, 'pecah': 3, 'genang': 1, 'mati': 1, 'limbah': 1, 'halang': 1, 'tutup': 1, 'parah': 1, 'retak': 3, 'dinding': 13, 'plester': 1, 'reparasi': 4, 'lantai': 5, 'grouting': 1, 'wallpaper': 2, 'halus': 1, 'lembab': 1, 'kelupas': 1, 'segel': 2, 'bata': 2, 'marmer': 2, 'granit': 1, 'rumah': 7, 'panel': 5, 'fiber': 1, 'semen': 1, 'batako': 1, 'merah': 1, 'pintu': 10, 'railing': 2, 'tangga': 2, 'gorden': 3, 'kunci': 2, 'jendela': 7, 'engsel': 2, 'handle': 3, 'geser': 2, 'roda': 1, 'lis': 1, 'kusen': 3, 'karat': 1, 'aluminium': 1, 'rel': 1, 'lemari': 1, 'meja': 1, 'kursi': 7, 'patah': 1, 'longgar': 1, 'lapuk': 1, 'kantor': 1, 'makan': 1, 'sofa': 1, 'taman': 2, 'rak': 7, 'buku': 1, 'pakai': 1, 'dekorasi': 1, 'alat': 4, 'dapur': 1, 'servis': 2, 'pajang': 2, 'cermin': 1, 'kran': 1, 'wastafel': 1, 'water': 1, 'heater': 1, 'sedot': 1, 'septic': 1, 'tank': 1, 'filter': 1, 'toren': 1, 'stop': 3, 'kontak': 3, 'masalah': 1, 'lampu': 5, 'listrik': 23, 'arus': 2, 'pendek': 1, 'saklar': 2, 'kabel': 12, 'grounding': 1, 'putus': 2, 'konslet': 1, 'lama': 1, 'fitting': 1, 'gantung': 1, 'mcb': 1, 'sekering': 1, 'kompor': 1, 'gedung': 1, 'minimal': 1, 'sederhana': 1, 'sistem': 1, 'fase': 1, 'bawah': 1, 'tanah': 1, 'lan': 1, 'stabilizer': 1, 'colok': 1, 'cctv': 1, 'korslet': 1, 'genset': 1, 'ac': 1, 'panas': 1, 'pabrik': 1, 'komersial': 1, 'elektronik': 1}\n"
     ]
    }
   ],
   "source": [
    "# gabungkan dictionary\n",
    "\n",
    "combined_dictionary = Counter()\n",
    "\n",
    "for index, row in df.iterrows():\n",
    "    combined_dictionary.update(row['cleaned_text_dict'])\n",
    "\n",
    "# konversi kembali ke dictionary\n",
    "seed_text = dict(combined_dictionary)\n",
    "print(seed_text)"
   ]
  },
  {
   "cell_type": "code",
   "execution_count": 16,
   "metadata": {
    "colab": {
     "base_uri": "https://localhost:8080/"
    },
    "id": "p3wZ_Mwz1uTB",
    "outputId": "4e5c55d6-f4ee-46eb-af17-b148af02dfe5"
   },
   "outputs": [
    {
     "name": "stdout",
     "output_type": "stream",
     "text": [
      "{'baik': 0, 'atap': 1, 'bocor': 2, 'rembes': 3, 'genteng': 4, 'asbes': 5, 'pasang': 6, 'baja': 7, 'ringan': 8, 'jasa': 9, 'isolasi': 10, 'plafon': 11, 'ganti': 12, 'cat': 13, 'ulang': 14, 'pudar': 15, 'tambal': 16, 'bongkar': 17, 'dak': 18, 'beton': 19, 'talang': 20, 'air': 21, 'kerangka': 22, 'awat': 23, 'metal': 24, 'roofing': 25, 'kaca': 26, 'polikarbonat': 27, 'plank': 28, 'pasir': 29, 'sirap': 30, 'kayu': 31, 'ulin': 32, 'upvc': 33, 'keramik': 34, 'glazur': 35, 'seng': 36, 'alumunium': 37, 'wc': 38, 'sumbat': 39, 'instalasi': 40, 'pompa': 41, 'sambung': 42, 'pipa': 43, 'keran': 44, 'rusak': 45, 'baru': 46, 'salur': 47, 'mampet': 48, 'kamar': 49, 'mandi': 50, 'bersih': 51, 'drainase': 52, 'closet': 53, 'bak': 54, 'shower': 55, 'buang': 56, 'hujan': 57, 'luap': 58, 'sumur': 59, 'kotor': 60, 'pecah': 61, 'genang': 62, 'mati': 63, 'limbah': 64, 'halang': 65, 'tutup': 66, 'parah': 67, 'retak': 68, 'dinding': 69, 'plester': 70, 'reparasi': 71, 'lantai': 72, 'grouting': 73, 'wallpaper': 74, 'halus': 75, 'lembab': 76, 'kelupas': 77, 'segel': 78, 'bata': 79, 'marmer': 80, 'granit': 81, 'rumah': 82, 'panel': 83, 'fiber': 84, 'semen': 85, 'batako': 86, 'merah': 87, 'pintu': 88, 'railing': 89, 'tangga': 90, 'gorden': 91, 'kunci': 92, 'jendela': 93, 'engsel': 94, 'handle': 95, 'geser': 96, 'roda': 97, 'lis': 98, 'kusen': 99, 'karat': 100, 'aluminium': 101, 'rel': 102, 'lemari': 103, 'meja': 104, 'kursi': 105, 'patah': 106, 'longgar': 107, 'lapuk': 108, 'kantor': 109, 'makan': 110, 'sofa': 111, 'taman': 112, 'rak': 113, 'buku': 114, 'pakai': 115, 'dekorasi': 116, 'alat': 117, 'dapur': 118, 'servis': 119, 'pajang': 120, 'cermin': 121, 'kran': 122, 'wastafel': 123, 'water': 124, 'heater': 125, 'sedot': 126, 'septic': 127, 'tank': 128, 'filter': 129, 'toren': 130, 'stop': 131, 'kontak': 132, 'masalah': 133, 'lampu': 134, 'listrik': 135, 'arus': 136, 'pendek': 137, 'saklar': 138, 'kabel': 139, 'grounding': 140, 'putus': 141, 'konslet': 142, 'lama': 143, 'fitting': 144, 'gantung': 145, 'mcb': 146, 'sekering': 147, 'kompor': 148, 'gedung': 149, 'minimal': 150, 'sederhana': 151, 'sistem': 152, 'fase': 153, 'bawah': 154, 'tanah': 155, 'lan': 156, 'stabilizer': 157, 'colok': 158, 'cctv': 159, 'korslet': 160, 'genset': 161, 'ac': 162, 'panas': 163, 'pabrik': 164, 'komersial': 165, 'elektronik': 166}\n"
     ]
    }
   ],
   "source": [
    "# buat word index (mapping kata ke indeks unik)\n",
    "\n",
    "word_index = {word: index for index, word in enumerate(seed_text)}\n",
    "print(word_index)"
   ]
  },
  {
   "cell_type": "code",
   "execution_count": 11,
   "metadata": {
    "colab": {
     "base_uri": "https://localhost:8080/"
    },
    "id": "6Kn5xHxkQryO",
    "outputId": "485723f2-3e46-45a3-eaa4-d10913831749"
   },
   "outputs": [
    {
     "name": "stdout",
     "output_type": "stream",
     "text": [
      "Total index: 167\n"
     ]
    }
   ],
   "source": [
    "# tampilkan total indeks akhir\n",
    "\n",
    "total_index = len(word_index)\n",
    "print(f\"Total index: {total_index}\")"
   ]
  },
  {
   "cell_type": "markdown",
   "metadata": {},
   "source": [
    "### Klasifikasi Decision Logic"
   ]
  },
  {
   "cell_type": "code",
   "execution_count": null,
   "metadata": {},
   "outputs": [],
   "source": [
    "# 1. Inisialisasi Contoh Data dan kategori\n",
    "texts = [\n",
    "    \"perbaikan atap bocor\",\n",
    "    \"saluran air mampet\",\n",
    "    \"bongkar pasang keramik\",\n",
    "    \"instalasi listrik rumah\",\n",
    "    \"perbaikan engsel pintu\"\n",
    "]\n",
    "labels = [\"Reparasi atap\", \"Reparasi saluran air\", \"Reparasi lantai dan dinding\", \"Instalasi listrik\", \"Reparasi aksesoris\"]\n",
    "\n",
    "# 2. Daftar kata kunci untuk setiap kategori\n",
    "category_keywords = {\n",
    "    \"Reparasi atap\": [\"genteng\", \"atap\", \"bocor\", \"tetesan\", \"plafon\", \"baja ringan\", \"asbes\"],\n",
    "    \"Reparasi saluran air\": [\"saluran\", \"air\", \"pipa\", \"mampet\", \"keran\", \"wastafel\", \"septic tank\", \"water heater\"],\n",
    "    \"Reparasi lantai dan dinding\": [\"dinding\", \"lantai\", \"keramik\", \"retak\", \"pecah\", \"cat\", \"lembab\", \"wallpaper\", \"marmer\"],\n",
    "    \"Instalasi listrik\": [\"kabel\", \"listrik\", \"lampu\", \"arus\", \"sambungan\", \"CCTV\", \"WiFi\", \"genset\", \"AC\"],\n",
    "    \"Reparasi aksesoris\": [\"pintu\", \"jendela\", \"meja\", \"kursi\", \"pagar\", \"kusen\", \"gorden\", \"alumunium\"]\n",
    "}"
   ]
  },
  {
   "cell_type": "code",
   "execution_count": null,
   "metadata": {},
   "outputs": [],
   "source": [
    "# 3. Buat fungsi deteksi kata kunci dalam teks\n",
    "def detect_keywords(text, category_keywords):\n",
    "    words = text.lower().split()\n",
    "    keyword_features = []\n",
    "    for category, keywords in category_keywords.items():\n",
    "        keyword_features.append(int(any(keyword in words for keyword in keywords)))\n",
    "    return keyword_features"
   ]
  },
  {
   "cell_type": "code",
   "execution_count": null,
   "metadata": {},
   "outputs": [],
   "source": [
    "# 4. Vektorisasi TF-IDF\n",
    "vectorizer = TfidfVectorizer()\n",
    "X_text = vectorizer.fit_transform(texts)\n",
    "\n",
    "X_keywords = np.array([detect_keywords(text, category_keywords) for text in texts])\n",
    "X_combined = np.hstack([X_text.toarray(), X_keywords])"
   ]
  },
  {
   "cell_type": "code",
   "execution_count": null,
   "metadata": {},
   "outputs": [],
   "source": [
    "# 5. Klasifikasi dengan MLPClassifier\n",
    "from sklearn.neural_network import MLPClassifier\n",
    "\n",
    "nn_model = MLPClassifier(hidden_layer_sizes=(10,), max_iter=1000)\n",
    "nn_model.fit(X_combined, labels)\n",
    "\n",
    "# Fungsi klasifikasi berbasis decision logic\n",
    "def classify_with_decision_logic(text, category_keywords, vectorizer, nn_model):\n",
    "    keyword_features = detect_keywords(text, category_keywords) # Deteksi berdasarkan kata kunci\n",
    "\n",
    "    for idx, feature in enumerate(keyword_features):\n",
    "        if feature == 1:\n",
    "            return list(category_keywords.keys())[idx]\n",
    "        \n",
    "    text_vectorized = vectorizer.transform([text])\n",
    "    text_combined = np.hstack([text_vectorized.toarray(), np.array([keyword_features])])\n",
    "    predicted_category = nn_model.predict(text_combined)\n",
    "\n",
    "    return predicted_category[0]\n",
    "\n",
    "# 6. Testing\n",
    "new_text = \"pemasangan listrik ac\"\n",
    "predicted_category = classify_with_decision_logic(new_text, category_keywords, vectorizer, nn_model)\n",
    "\n",
    "print(f\"Teks '{new_text}' termasuk dalam kategori: {predicted_category}\")"
   ]
  },
  {
   "cell_type": "markdown",
   "metadata": {
    "id": "OZ8lgQydRDMo"
   },
   "source": [
    "### Klasifikasi RNN"
   ]
  },
  {
   "cell_type": "code",
   "execution_count": null,
   "metadata": {
    "id": "6VILdAclRB8W"
   },
   "outputs": [],
   "source": [
    "# 1. Inisialisasi Contoh Data dan kategori\n",
    "texts = [\n",
    "    \"perbaikan atap bocor\",\n",
    "    \"saluran air mampet\",\n",
    "    \"bongkar pasang keramik\",\n",
    "    \"instalasi listrik rumah\",\n",
    "    \"perbaikan engsel pintu\"\n",
    "]\n",
    "labels = [\"Reparasi atap\", \"Reparasi saluran air\", \"Reparasi lantai dan dinding\", \"Instalasi listrik\", \"Reparasi aksesoris\"]\n",
    "\n",
    "# 2. Daftar kata kunci untuk setiap kategori\n",
    "category_keywords = {\n",
    "    \"Reparasi atap\": [\"genteng\", \"atap\", \"bocor\", \"tetesan\", \"plafon\", \"baja ringan\", \"asbes\"],\n",
    "    \"Reparasi saluran air\": [\"saluran\", \"air\", \"pipa\", \"mampet\", \"keran\", \"saluran wastafel\", \"septictank\", \"water heater\"],\n",
    "    \"Reparasi lantai dan dinding\": [\"dinding\", \"lantai\", \"keramik\", \"retak\", \"pecah\", \"cat\", \"dinding lembab\", \"wallpaper\", \"marmer\"],\n",
    "    \"Instalasi listrik\": [\"kabel\", \"listrik\", \"lampu\", \"arus\", \"sambungan\", \"instalasi CCTV\", \"instalasi WiFi\", \"genset\", \"instalasi AC\"],\n",
    "    \"Reparasi aksesoris\": [\"pintu\", \"jendela\", \"meja\", \"kursi\", \"pagar\", \"kusen\", \"gorden\", \"alumunium\"]\n",
    "}"
   ]
  },
  {
   "cell_type": "code",
   "execution_count": null,
   "metadata": {
    "id": "JslKOfVCRiLu"
   },
   "outputs": [],
   "source": [
    "# 3. Tokenisasi dan padding untuk teks\n",
    "tokenizer = tf.keras.preprocessing.text.Tokenizer(num_words=5000)\n",
    "tokenizer.fit_on_texts(texts)\n",
    "X = tokenizer.texts_to_sequences(texts)\n",
    "\n",
    "# Padding untuk memastikan semua input memiliki panjang yang sama\n",
    "max_sequence_length = 10  # Panjang maksimal\n",
    "X_padded = tf.keras.utils.pad_sequences(X, maxlen=max_sequence_length, padding='post')\n",
    "\n",
    "# 4. Encoding label untuk kategori\n",
    "label_encoder = LabelEncoder()\n",
    "y = label_encoder.fit_transform(labels)"
   ]
  },
  {
   "cell_type": "code",
   "execution_count": null,
   "metadata": {
    "colab": {
     "base_uri": "https://localhost:8080/"
    },
    "id": "wA-bb7KiR4J6",
    "outputId": "c0026d8f-e2bb-452c-adc2-6ee40adc92bd"
   },
   "outputs": [
    {
     "name": "stderr",
     "output_type": "stream",
     "text": [
      "/usr/local/lib/python3.10/dist-packages/keras/src/layers/core/embedding.py:90: UserWarning: Argument `input_length` is deprecated. Just remove it.\n",
      "  warnings.warn(\n"
     ]
    }
   ],
   "source": [
    "# 5. Model Neural Network (LSTM)\n",
    "model = tf.keras.models.Sequential([\n",
    "    tf.keras.layers.Embedding(input_dim=5000, output_dim=128, input_length=max_sequence_length),\n",
    "    tf.keras.layers.LSTM(64),  # LSTM layer untuk menangkap urutan kata\n",
    "    tf.keras.layers.Dropout(0.5),\n",
    "    tf.keras.layers.Dense(64, activation='relu'),\n",
    "    tf.keras.layers.Dense(len(np.unique(y)), activation='softmax')  # Output layer: softmax untuk multi-class classification\n",
    "])\n",
    "\n",
    "model.compile(loss='sparse_categorical_crossentropy', optimizer='adam', metrics=['accuracy'])"
   ]
  },
  {
   "cell_type": "code",
   "execution_count": null,
   "metadata": {
    "colab": {
     "base_uri": "https://localhost:8080/"
    },
    "id": "-KPqXGv7Soyw",
    "outputId": "78c8108c-61aa-44e7-a230-42a19e448da1"
   },
   "outputs": [
    {
     "name": "stdout",
     "output_type": "stream",
     "text": [
      "Epoch 1/100\n",
      "\u001b[1m1/1\u001b[0m \u001b[32m━━━━━━━━━━━━━━━━━━━━\u001b[0m\u001b[37m\u001b[0m \u001b[1m3s\u001b[0m 3s/step - accuracy: 0.2000 - loss: 1.6144\n",
      "Epoch 2/100\n",
      "\u001b[1m1/1\u001b[0m \u001b[32m━━━━━━━━━━━━━━━━━━━━\u001b[0m\u001b[37m\u001b[0m \u001b[1m0s\u001b[0m 40ms/step - accuracy: 0.0000e+00 - loss: 1.6083\n",
      "Epoch 3/100\n",
      "\u001b[1m1/1\u001b[0m \u001b[32m━━━━━━━━━━━━━━━━━━━━\u001b[0m\u001b[37m\u001b[0m \u001b[1m0s\u001b[0m 38ms/step - accuracy: 0.4000 - loss: 1.6017\n",
      "Epoch 4/100\n",
      "\u001b[1m1/1\u001b[0m \u001b[32m━━━━━━━━━━━━━━━━━━━━\u001b[0m\u001b[37m\u001b[0m \u001b[1m0s\u001b[0m 40ms/step - accuracy: 0.2000 - loss: 1.6173\n",
      "Epoch 5/100\n",
      "\u001b[1m1/1\u001b[0m \u001b[32m━━━━━━━━━━━━━━━━━━━━\u001b[0m\u001b[37m\u001b[0m \u001b[1m0s\u001b[0m 57ms/step - accuracy: 0.2000 - loss: 1.6096\n",
      "Epoch 6/100\n",
      "\u001b[1m1/1\u001b[0m \u001b[32m━━━━━━━━━━━━━━━━━━━━\u001b[0m\u001b[37m\u001b[0m \u001b[1m0s\u001b[0m 59ms/step - accuracy: 0.2000 - loss: 1.6058\n",
      "Epoch 7/100\n",
      "\u001b[1m1/1\u001b[0m \u001b[32m━━━━━━━━━━━━━━━━━━━━\u001b[0m\u001b[37m\u001b[0m \u001b[1m0s\u001b[0m 56ms/step - accuracy: 0.0000e+00 - loss: 1.6091\n",
      "Epoch 8/100\n",
      "\u001b[1m1/1\u001b[0m \u001b[32m━━━━━━━━━━━━━━━━━━━━\u001b[0m\u001b[37m\u001b[0m \u001b[1m0s\u001b[0m 62ms/step - accuracy: 0.2000 - loss: 1.5934\n",
      "Epoch 9/100\n",
      "\u001b[1m1/1\u001b[0m \u001b[32m━━━━━━━━━━━━━━━━━━━━\u001b[0m\u001b[37m\u001b[0m \u001b[1m0s\u001b[0m 54ms/step - accuracy: 0.2000 - loss: 1.6067\n",
      "Epoch 10/100\n",
      "\u001b[1m1/1\u001b[0m \u001b[32m━━━━━━━━━━━━━━━━━━━━\u001b[0m\u001b[37m\u001b[0m \u001b[1m0s\u001b[0m 43ms/step - accuracy: 0.2000 - loss: 1.5845\n",
      "Epoch 11/100\n",
      "\u001b[1m1/1\u001b[0m \u001b[32m━━━━━━━━━━━━━━━━━━━━\u001b[0m\u001b[37m\u001b[0m \u001b[1m0s\u001b[0m 64ms/step - accuracy: 0.4000 - loss: 1.5935\n",
      "Epoch 12/100\n",
      "\u001b[1m1/1\u001b[0m \u001b[32m━━━━━━━━━━━━━━━━━━━━\u001b[0m\u001b[37m\u001b[0m \u001b[1m0s\u001b[0m 132ms/step - accuracy: 0.2000 - loss: 1.5969\n",
      "Epoch 13/100\n",
      "\u001b[1m1/1\u001b[0m \u001b[32m━━━━━━━━━━━━━━━━━━━━\u001b[0m\u001b[37m\u001b[0m \u001b[1m0s\u001b[0m 60ms/step - accuracy: 0.2000 - loss: 1.5968\n",
      "Epoch 14/100\n",
      "\u001b[1m1/1\u001b[0m \u001b[32m━━━━━━━━━━━━━━━━━━━━\u001b[0m\u001b[37m\u001b[0m \u001b[1m0s\u001b[0m 55ms/step - accuracy: 0.2000 - loss: 1.6000\n",
      "Epoch 15/100\n",
      "\u001b[1m1/1\u001b[0m \u001b[32m━━━━━━━━━━━━━━━━━━━━\u001b[0m\u001b[37m\u001b[0m \u001b[1m0s\u001b[0m 59ms/step - accuracy: 0.2000 - loss: 1.5996\n",
      "Epoch 16/100\n",
      "\u001b[1m1/1\u001b[0m \u001b[32m━━━━━━━━━━━━━━━━━━━━\u001b[0m\u001b[37m\u001b[0m \u001b[1m0s\u001b[0m 66ms/step - accuracy: 0.2000 - loss: 1.5967\n",
      "Epoch 17/100\n",
      "\u001b[1m1/1\u001b[0m \u001b[32m━━━━━━━━━━━━━━━━━━━━\u001b[0m\u001b[37m\u001b[0m \u001b[1m0s\u001b[0m 59ms/step - accuracy: 0.2000 - loss: 1.5947\n",
      "Epoch 18/100\n",
      "\u001b[1m1/1\u001b[0m \u001b[32m━━━━━━━━━━━━━━━━━━━━\u001b[0m\u001b[37m\u001b[0m \u001b[1m0s\u001b[0m 56ms/step - accuracy: 0.4000 - loss: 1.5750\n",
      "Epoch 19/100\n",
      "\u001b[1m1/1\u001b[0m \u001b[32m━━━━━━━━━━━━━━━━━━━━\u001b[0m\u001b[37m\u001b[0m \u001b[1m0s\u001b[0m 66ms/step - accuracy: 0.4000 - loss: 1.5825\n",
      "Epoch 20/100\n",
      "\u001b[1m1/1\u001b[0m \u001b[32m━━━━━━━━━━━━━━━━━━━━\u001b[0m\u001b[37m\u001b[0m \u001b[1m0s\u001b[0m 136ms/step - accuracy: 0.2000 - loss: 1.5890\n",
      "Epoch 21/100\n",
      "\u001b[1m1/1\u001b[0m \u001b[32m━━━━━━━━━━━━━━━━━━━━\u001b[0m\u001b[37m\u001b[0m \u001b[1m0s\u001b[0m 136ms/step - accuracy: 0.2000 - loss: 1.5801\n",
      "Epoch 22/100\n",
      "\u001b[1m1/1\u001b[0m \u001b[32m━━━━━━━━━━━━━━━━━━━━\u001b[0m\u001b[37m\u001b[0m \u001b[1m0s\u001b[0m 141ms/step - accuracy: 0.4000 - loss: 1.5999\n",
      "Epoch 23/100\n",
      "\u001b[1m1/1\u001b[0m \u001b[32m━━━━━━━━━━━━━━━━━━━━\u001b[0m\u001b[37m\u001b[0m \u001b[1m0s\u001b[0m 136ms/step - accuracy: 0.6000 - loss: 1.5456\n",
      "Epoch 24/100\n",
      "\u001b[1m1/1\u001b[0m \u001b[32m━━━━━━━━━━━━━━━━━━━━\u001b[0m\u001b[37m\u001b[0m \u001b[1m0s\u001b[0m 138ms/step - accuracy: 0.4000 - loss: 1.6053\n",
      "Epoch 25/100\n",
      "\u001b[1m1/1\u001b[0m \u001b[32m━━━━━━━━━━━━━━━━━━━━\u001b[0m\u001b[37m\u001b[0m \u001b[1m0s\u001b[0m 133ms/step - accuracy: 0.6000 - loss: 1.5582\n",
      "Epoch 26/100\n",
      "\u001b[1m1/1\u001b[0m \u001b[32m━━━━━━━━━━━━━━━━━━━━\u001b[0m\u001b[37m\u001b[0m \u001b[1m0s\u001b[0m 136ms/step - accuracy: 0.4000 - loss: 1.5642\n",
      "Epoch 27/100\n",
      "\u001b[1m1/1\u001b[0m \u001b[32m━━━━━━━━━━━━━━━━━━━━\u001b[0m\u001b[37m\u001b[0m \u001b[1m0s\u001b[0m 140ms/step - accuracy: 0.4000 - loss: 1.6042\n",
      "Epoch 28/100\n",
      "\u001b[1m1/1\u001b[0m \u001b[32m━━━━━━━━━━━━━━━━━━━━\u001b[0m\u001b[37m\u001b[0m \u001b[1m0s\u001b[0m 62ms/step - accuracy: 0.2000 - loss: 1.6066\n",
      "Epoch 29/100\n",
      "\u001b[1m1/1\u001b[0m \u001b[32m━━━━━━━━━━━━━━━━━━━━\u001b[0m\u001b[37m\u001b[0m \u001b[1m0s\u001b[0m 145ms/step - accuracy: 0.4000 - loss: 1.5831\n",
      "Epoch 30/100\n",
      "\u001b[1m1/1\u001b[0m \u001b[32m━━━━━━━━━━━━━━━━━━━━\u001b[0m\u001b[37m\u001b[0m \u001b[1m0s\u001b[0m 96ms/step - accuracy: 0.2000 - loss: 1.5784\n",
      "Epoch 31/100\n",
      "\u001b[1m1/1\u001b[0m \u001b[32m━━━━━━━━━━━━━━━━━━━━\u001b[0m\u001b[37m\u001b[0m \u001b[1m0s\u001b[0m 129ms/step - accuracy: 0.4000 - loss: 1.6027\n",
      "Epoch 32/100\n",
      "\u001b[1m1/1\u001b[0m \u001b[32m━━━━━━━━━━━━━━━━━━━━\u001b[0m\u001b[37m\u001b[0m \u001b[1m0s\u001b[0m 77ms/step - accuracy: 0.4000 - loss: 1.5271\n",
      "Epoch 33/100\n",
      "\u001b[1m1/1\u001b[0m \u001b[32m━━━━━━━━━━━━━━━━━━━━\u001b[0m\u001b[37m\u001b[0m \u001b[1m0s\u001b[0m 59ms/step - accuracy: 0.6000 - loss: 1.5375\n",
      "Epoch 34/100\n",
      "\u001b[1m1/1\u001b[0m \u001b[32m━━━━━━━━━━━━━━━━━━━━\u001b[0m\u001b[37m\u001b[0m \u001b[1m0s\u001b[0m 138ms/step - accuracy: 0.6000 - loss: 1.4600\n",
      "Epoch 35/100\n",
      "\u001b[1m1/1\u001b[0m \u001b[32m━━━━━━━━━━━━━━━━━━━━\u001b[0m\u001b[37m\u001b[0m \u001b[1m0s\u001b[0m 69ms/step - accuracy: 1.0000 - loss: 1.4979\n",
      "Epoch 36/100\n",
      "\u001b[1m1/1\u001b[0m \u001b[32m━━━━━━━━━━━━━━━━━━━━\u001b[0m\u001b[37m\u001b[0m \u001b[1m0s\u001b[0m 143ms/step - accuracy: 1.0000 - loss: 1.4888\n",
      "Epoch 37/100\n",
      "\u001b[1m1/1\u001b[0m \u001b[32m━━━━━━━━━━━━━━━━━━━━\u001b[0m\u001b[37m\u001b[0m \u001b[1m0s\u001b[0m 87ms/step - accuracy: 0.6000 - loss: 1.5056\n",
      "Epoch 38/100\n",
      "\u001b[1m1/1\u001b[0m \u001b[32m━━━━━━━━━━━━━━━━━━━━\u001b[0m\u001b[37m\u001b[0m \u001b[1m0s\u001b[0m 88ms/step - accuracy: 1.0000 - loss: 1.4119\n",
      "Epoch 39/100\n",
      "\u001b[1m1/1\u001b[0m \u001b[32m━━━━━━━━━━━━━━━━━━━━\u001b[0m\u001b[37m\u001b[0m \u001b[1m0s\u001b[0m 72ms/step - accuracy: 0.8000 - loss: 1.4607\n",
      "Epoch 40/100\n",
      "\u001b[1m1/1\u001b[0m \u001b[32m━━━━━━━━━━━━━━━━━━━━\u001b[0m\u001b[37m\u001b[0m \u001b[1m0s\u001b[0m 71ms/step - accuracy: 0.4000 - loss: 1.4546\n",
      "Epoch 41/100\n",
      "\u001b[1m1/1\u001b[0m \u001b[32m━━━━━━━━━━━━━━━━━━━━\u001b[0m\u001b[37m\u001b[0m \u001b[1m0s\u001b[0m 124ms/step - accuracy: 0.2000 - loss: 1.5215\n",
      "Epoch 42/100\n",
      "\u001b[1m1/1\u001b[0m \u001b[32m━━━━━━━━━━━━━━━━━━━━\u001b[0m\u001b[37m\u001b[0m \u001b[1m0s\u001b[0m 39ms/step - accuracy: 0.8000 - loss: 1.3794\n",
      "Epoch 43/100\n",
      "\u001b[1m1/1\u001b[0m \u001b[32m━━━━━━━━━━━━━━━━━━━━\u001b[0m\u001b[37m\u001b[0m \u001b[1m0s\u001b[0m 63ms/step - accuracy: 0.6000 - loss: 1.3801\n",
      "Epoch 44/100\n",
      "\u001b[1m1/1\u001b[0m \u001b[32m━━━━━━━━━━━━━━━━━━━━\u001b[0m\u001b[37m\u001b[0m \u001b[1m0s\u001b[0m 40ms/step - accuracy: 0.8000 - loss: 1.3434\n",
      "Epoch 45/100\n",
      "\u001b[1m1/1\u001b[0m \u001b[32m━━━━━━━━━━━━━━━━━━━━\u001b[0m\u001b[37m\u001b[0m \u001b[1m0s\u001b[0m 59ms/step - accuracy: 0.8000 - loss: 1.2453\n",
      "Epoch 46/100\n",
      "\u001b[1m1/1\u001b[0m \u001b[32m━━━━━━━━━━━━━━━━━━━━\u001b[0m\u001b[37m\u001b[0m \u001b[1m0s\u001b[0m 41ms/step - accuracy: 1.0000 - loss: 1.3159\n",
      "Epoch 47/100\n",
      "\u001b[1m1/1\u001b[0m \u001b[32m━━━━━━━━━━━━━━━━━━━━\u001b[0m\u001b[37m\u001b[0m \u001b[1m0s\u001b[0m 58ms/step - accuracy: 0.8000 - loss: 1.1304\n",
      "Epoch 48/100\n",
      "\u001b[1m1/1\u001b[0m \u001b[32m━━━━━━━━━━━━━━━━━━━━\u001b[0m\u001b[37m\u001b[0m \u001b[1m0s\u001b[0m 39ms/step - accuracy: 1.0000 - loss: 1.0050\n",
      "Epoch 49/100\n",
      "\u001b[1m1/1\u001b[0m \u001b[32m━━━━━━━━━━━━━━━━━━━━\u001b[0m\u001b[37m\u001b[0m \u001b[1m0s\u001b[0m 44ms/step - accuracy: 1.0000 - loss: 1.0608\n",
      "Epoch 50/100\n",
      "\u001b[1m1/1\u001b[0m \u001b[32m━━━━━━━━━━━━━━━━━━━━\u001b[0m\u001b[37m\u001b[0m \u001b[1m0s\u001b[0m 57ms/step - accuracy: 0.6000 - loss: 1.0389\n",
      "Epoch 51/100\n",
      "\u001b[1m1/1\u001b[0m \u001b[32m━━━━━━━━━━━━━━━━━━━━\u001b[0m\u001b[37m\u001b[0m \u001b[1m0s\u001b[0m 56ms/step - accuracy: 1.0000 - loss: 0.9490\n",
      "Epoch 52/100\n",
      "\u001b[1m1/1\u001b[0m \u001b[32m━━━━━━━━━━━━━━━━━━━━\u001b[0m\u001b[37m\u001b[0m \u001b[1m0s\u001b[0m 41ms/step - accuracy: 1.0000 - loss: 0.8416\n",
      "Epoch 53/100\n",
      "\u001b[1m1/1\u001b[0m \u001b[32m━━━━━━━━━━━━━━━━━━━━\u001b[0m\u001b[37m\u001b[0m \u001b[1m0s\u001b[0m 46ms/step - accuracy: 0.4000 - loss: 0.8946\n",
      "Epoch 54/100\n",
      "\u001b[1m1/1\u001b[0m \u001b[32m━━━━━━━━━━━━━━━━━━━━\u001b[0m\u001b[37m\u001b[0m \u001b[1m0s\u001b[0m 64ms/step - accuracy: 0.8000 - loss: 0.5799\n",
      "Epoch 55/100\n",
      "\u001b[1m1/1\u001b[0m \u001b[32m━━━━━━━━━━━━━━━━━━━━\u001b[0m\u001b[37m\u001b[0m \u001b[1m0s\u001b[0m 51ms/step - accuracy: 0.8000 - loss: 0.6313\n",
      "Epoch 56/100\n",
      "\u001b[1m1/1\u001b[0m \u001b[32m━━━━━━━━━━━━━━━━━━━━\u001b[0m\u001b[37m\u001b[0m \u001b[1m0s\u001b[0m 59ms/step - accuracy: 1.0000 - loss: 0.5598\n",
      "Epoch 57/100\n",
      "\u001b[1m1/1\u001b[0m \u001b[32m━━━━━━━━━━━━━━━━━━━━\u001b[0m\u001b[37m\u001b[0m \u001b[1m0s\u001b[0m 55ms/step - accuracy: 1.0000 - loss: 0.4606\n",
      "Epoch 58/100\n",
      "\u001b[1m1/1\u001b[0m \u001b[32m━━━━━━━━━━━━━━━━━━━━\u001b[0m\u001b[37m\u001b[0m \u001b[1m0s\u001b[0m 58ms/step - accuracy: 0.8000 - loss: 0.5760\n",
      "Epoch 59/100\n",
      "\u001b[1m1/1\u001b[0m \u001b[32m━━━━━━━━━━━━━━━━━━━━\u001b[0m\u001b[37m\u001b[0m \u001b[1m0s\u001b[0m 49ms/step - accuracy: 0.6000 - loss: 0.5601\n",
      "Epoch 60/100\n",
      "\u001b[1m1/1\u001b[0m \u001b[32m━━━━━━━━━━━━━━━━━━━━\u001b[0m\u001b[37m\u001b[0m \u001b[1m0s\u001b[0m 56ms/step - accuracy: 0.8000 - loss: 0.5251\n",
      "Epoch 61/100\n",
      "\u001b[1m1/1\u001b[0m \u001b[32m━━━━━━━━━━━━━━━━━━━━\u001b[0m\u001b[37m\u001b[0m \u001b[1m0s\u001b[0m 55ms/step - accuracy: 0.8000 - loss: 0.4906\n",
      "Epoch 62/100\n",
      "\u001b[1m1/1\u001b[0m \u001b[32m━━━━━━━━━━━━━━━━━━━━\u001b[0m\u001b[37m\u001b[0m \u001b[1m0s\u001b[0m 41ms/step - accuracy: 1.0000 - loss: 0.2523\n",
      "Epoch 63/100\n",
      "\u001b[1m1/1\u001b[0m \u001b[32m━━━━━━━━━━━━━━━━━━━━\u001b[0m\u001b[37m\u001b[0m \u001b[1m0s\u001b[0m 60ms/step - accuracy: 1.0000 - loss: 0.2371\n",
      "Epoch 64/100\n",
      "\u001b[1m1/1\u001b[0m \u001b[32m━━━━━━━━━━━━━━━━━━━━\u001b[0m\u001b[37m\u001b[0m \u001b[1m0s\u001b[0m 54ms/step - accuracy: 1.0000 - loss: 0.1461\n",
      "Epoch 65/100\n",
      "\u001b[1m1/1\u001b[0m \u001b[32m━━━━━━━━━━━━━━━━━━━━\u001b[0m\u001b[37m\u001b[0m \u001b[1m0s\u001b[0m 39ms/step - accuracy: 1.0000 - loss: 0.2635\n",
      "Epoch 66/100\n",
      "\u001b[1m1/1\u001b[0m \u001b[32m━━━━━━━━━━━━━━━━━━━━\u001b[0m\u001b[37m\u001b[0m \u001b[1m0s\u001b[0m 41ms/step - accuracy: 1.0000 - loss: 0.1680\n",
      "Epoch 67/100\n",
      "\u001b[1m1/1\u001b[0m \u001b[32m━━━━━━━━━━━━━━━━━━━━\u001b[0m\u001b[37m\u001b[0m \u001b[1m0s\u001b[0m 53ms/step - accuracy: 1.0000 - loss: 0.1362\n",
      "Epoch 68/100\n",
      "\u001b[1m1/1\u001b[0m \u001b[32m━━━━━━━━━━━━━━━━━━━━\u001b[0m\u001b[37m\u001b[0m \u001b[1m0s\u001b[0m 40ms/step - accuracy: 1.0000 - loss: 0.1956\n",
      "Epoch 69/100\n",
      "\u001b[1m1/1\u001b[0m \u001b[32m━━━━━━━━━━━━━━━━━━━━\u001b[0m\u001b[37m\u001b[0m \u001b[1m0s\u001b[0m 37ms/step - accuracy: 1.0000 - loss: 0.1301\n",
      "Epoch 70/100\n",
      "\u001b[1m1/1\u001b[0m \u001b[32m━━━━━━━━━━━━━━━━━━━━\u001b[0m\u001b[37m\u001b[0m \u001b[1m0s\u001b[0m 39ms/step - accuracy: 1.0000 - loss: 0.1888\n",
      "Epoch 71/100\n",
      "\u001b[1m1/1\u001b[0m \u001b[32m━━━━━━━━━━━━━━━━━━━━\u001b[0m\u001b[37m\u001b[0m \u001b[1m0s\u001b[0m 38ms/step - accuracy: 1.0000 - loss: 0.0611\n",
      "Epoch 72/100\n",
      "\u001b[1m1/1\u001b[0m \u001b[32m━━━━━━━━━━━━━━━━━━━━\u001b[0m\u001b[37m\u001b[0m \u001b[1m0s\u001b[0m 48ms/step - accuracy: 1.0000 - loss: 0.1273\n",
      "Epoch 73/100\n",
      "\u001b[1m1/1\u001b[0m \u001b[32m━━━━━━━━━━━━━━━━━━━━\u001b[0m\u001b[37m\u001b[0m \u001b[1m0s\u001b[0m 137ms/step - accuracy: 1.0000 - loss: 0.0553\n",
      "Epoch 74/100\n",
      "\u001b[1m1/1\u001b[0m \u001b[32m━━━━━━━━━━━━━━━━━━━━\u001b[0m\u001b[37m\u001b[0m \u001b[1m0s\u001b[0m 48ms/step - accuracy: 1.0000 - loss: 0.0624\n",
      "Epoch 75/100\n",
      "\u001b[1m1/1\u001b[0m \u001b[32m━━━━━━━━━━━━━━━━━━━━\u001b[0m\u001b[37m\u001b[0m \u001b[1m0s\u001b[0m 56ms/step - accuracy: 1.0000 - loss: 0.0712\n",
      "Epoch 76/100\n",
      "\u001b[1m1/1\u001b[0m \u001b[32m━━━━━━━━━━━━━━━━━━━━\u001b[0m\u001b[37m\u001b[0m \u001b[1m0s\u001b[0m 42ms/step - accuracy: 1.0000 - loss: 0.0719\n",
      "Epoch 77/100\n",
      "\u001b[1m1/1\u001b[0m \u001b[32m━━━━━━━━━━━━━━━━━━━━\u001b[0m\u001b[37m\u001b[0m \u001b[1m0s\u001b[0m 52ms/step - accuracy: 1.0000 - loss: 0.0912\n",
      "Epoch 78/100\n",
      "\u001b[1m1/1\u001b[0m \u001b[32m━━━━━━━━━━━━━━━━━━━━\u001b[0m\u001b[37m\u001b[0m \u001b[1m0s\u001b[0m 62ms/step - accuracy: 1.0000 - loss: 0.0829\n",
      "Epoch 79/100\n",
      "\u001b[1m1/1\u001b[0m \u001b[32m━━━━━━━━━━━━━━━━━━━━\u001b[0m\u001b[37m\u001b[0m \u001b[1m0s\u001b[0m 39ms/step - accuracy: 1.0000 - loss: 0.0751\n",
      "Epoch 80/100\n",
      "\u001b[1m1/1\u001b[0m \u001b[32m━━━━━━━━━━━━━━━━━━━━\u001b[0m\u001b[37m\u001b[0m \u001b[1m0s\u001b[0m 56ms/step - accuracy: 1.0000 - loss: 0.0641\n",
      "Epoch 81/100\n",
      "\u001b[1m1/1\u001b[0m \u001b[32m━━━━━━━━━━━━━━━━━━━━\u001b[0m\u001b[37m\u001b[0m \u001b[1m0s\u001b[0m 46ms/step - accuracy: 1.0000 - loss: 0.0215\n",
      "Epoch 82/100\n",
      "\u001b[1m1/1\u001b[0m \u001b[32m━━━━━━━━━━━━━━━━━━━━\u001b[0m\u001b[37m\u001b[0m \u001b[1m0s\u001b[0m 41ms/step - accuracy: 1.0000 - loss: 0.0109\n",
      "Epoch 83/100\n",
      "\u001b[1m1/1\u001b[0m \u001b[32m━━━━━━━━━━━━━━━━━━━━\u001b[0m\u001b[37m\u001b[0m \u001b[1m0s\u001b[0m 59ms/step - accuracy: 1.0000 - loss: 0.0202\n",
      "Epoch 84/100\n",
      "\u001b[1m1/1\u001b[0m \u001b[32m━━━━━━━━━━━━━━━━━━━━\u001b[0m\u001b[37m\u001b[0m \u001b[1m0s\u001b[0m 37ms/step - accuracy: 1.0000 - loss: 0.0113\n",
      "Epoch 85/100\n",
      "\u001b[1m1/1\u001b[0m \u001b[32m━━━━━━━━━━━━━━━━━━━━\u001b[0m\u001b[37m\u001b[0m \u001b[1m0s\u001b[0m 39ms/step - accuracy: 1.0000 - loss: 0.0126\n",
      "Epoch 86/100\n",
      "\u001b[1m1/1\u001b[0m \u001b[32m━━━━━━━━━━━━━━━━━━━━\u001b[0m\u001b[37m\u001b[0m \u001b[1m0s\u001b[0m 40ms/step - accuracy: 1.0000 - loss: 0.0270\n",
      "Epoch 87/100\n",
      "\u001b[1m1/1\u001b[0m \u001b[32m━━━━━━━━━━━━━━━━━━━━\u001b[0m\u001b[37m\u001b[0m \u001b[1m0s\u001b[0m 58ms/step - accuracy: 1.0000 - loss: 0.0210\n",
      "Epoch 88/100\n",
      "\u001b[1m1/1\u001b[0m \u001b[32m━━━━━━━━━━━━━━━━━━━━\u001b[0m\u001b[37m\u001b[0m \u001b[1m0s\u001b[0m 65ms/step - accuracy: 1.0000 - loss: 0.0127\n",
      "Epoch 89/100\n",
      "\u001b[1m1/1\u001b[0m \u001b[32m━━━━━━━━━━━━━━━━━━━━\u001b[0m\u001b[37m\u001b[0m \u001b[1m0s\u001b[0m 51ms/step - accuracy: 1.0000 - loss: 0.0691\n",
      "Epoch 90/100\n",
      "\u001b[1m1/1\u001b[0m \u001b[32m━━━━━━━━━━━━━━━━━━━━\u001b[0m\u001b[37m\u001b[0m \u001b[1m0s\u001b[0m 137ms/step - accuracy: 1.0000 - loss: 0.0233\n",
      "Epoch 91/100\n",
      "\u001b[1m1/1\u001b[0m \u001b[32m━━━━━━━━━━━━━━━━━━━━\u001b[0m\u001b[37m\u001b[0m \u001b[1m0s\u001b[0m 55ms/step - accuracy: 1.0000 - loss: 0.0212\n",
      "Epoch 92/100\n",
      "\u001b[1m1/1\u001b[0m \u001b[32m━━━━━━━━━━━━━━━━━━━━\u001b[0m\u001b[37m\u001b[0m \u001b[1m0s\u001b[0m 52ms/step - accuracy: 1.0000 - loss: 0.0258\n",
      "Epoch 93/100\n",
      "\u001b[1m1/1\u001b[0m \u001b[32m━━━━━━━━━━━━━━━━━━━━\u001b[0m\u001b[37m\u001b[0m \u001b[1m0s\u001b[0m 47ms/step - accuracy: 1.0000 - loss: 0.0020\n",
      "Epoch 94/100\n",
      "\u001b[1m1/1\u001b[0m \u001b[32m━━━━━━━━━━━━━━━━━━━━\u001b[0m\u001b[37m\u001b[0m \u001b[1m0s\u001b[0m 57ms/step - accuracy: 1.0000 - loss: 0.0284\n",
      "Epoch 95/100\n",
      "\u001b[1m1/1\u001b[0m \u001b[32m━━━━━━━━━━━━━━━━━━━━\u001b[0m\u001b[37m\u001b[0m \u001b[1m0s\u001b[0m 55ms/step - accuracy: 1.0000 - loss: 0.0205\n",
      "Epoch 96/100\n",
      "\u001b[1m1/1\u001b[0m \u001b[32m━━━━━━━━━━━━━━━━━━━━\u001b[0m\u001b[37m\u001b[0m \u001b[1m0s\u001b[0m 42ms/step - accuracy: 1.0000 - loss: 0.0069\n",
      "Epoch 97/100\n",
      "\u001b[1m1/1\u001b[0m \u001b[32m━━━━━━━━━━━━━━━━━━━━\u001b[0m\u001b[37m\u001b[0m \u001b[1m0s\u001b[0m 51ms/step - accuracy: 1.0000 - loss: 0.0156\n",
      "Epoch 98/100\n",
      "\u001b[1m1/1\u001b[0m \u001b[32m━━━━━━━━━━━━━━━━━━━━\u001b[0m\u001b[37m\u001b[0m \u001b[1m0s\u001b[0m 58ms/step - accuracy: 1.0000 - loss: 0.0024\n",
      "Epoch 99/100\n",
      "\u001b[1m1/1\u001b[0m \u001b[32m━━━━━━━━━━━━━━━━━━━━\u001b[0m\u001b[37m\u001b[0m \u001b[1m0s\u001b[0m 59ms/step - accuracy: 1.0000 - loss: 0.0284\n",
      "Epoch 100/100\n",
      "\u001b[1m1/1\u001b[0m \u001b[32m━━━━━━━━━━━━━━━━━━━━\u001b[0m\u001b[37m\u001b[0m \u001b[1m0s\u001b[0m 37ms/step - accuracy: 1.0000 - loss: 0.0160\n"
     ]
    }
   ],
   "source": [
    "# 6. Pelatihan model\n",
    "history = model.fit(X_padded, y, epochs=100, batch_size=16, verbose=1)"
   ]
  },
  {
   "cell_type": "code",
   "execution_count": null,
   "metadata": {
    "colab": {
     "base_uri": "https://localhost:8080/",
     "height": 957
    },
    "id": "eOxiAFMDS0yO",
    "outputId": "2329b27a-b51d-4098-edb2-f4e661688515"
   },
   "outputs": [
    {
     "data": {
      "image/png": "[encoded data removed]",
      "text/plain": [
       "<Figure size 1000x500 with 1 Axes>"
      ]
     },
     "metadata": {},
     "output_type": "display_data"
    },
    {
     "data": {
      "image/png": "[encoded data removed]",
      "text/plain": [
       "<Figure size 1000x500 with 1 Axes>"
      ]
     },
     "metadata": {},
     "output_type": "display_data"
    }
   ],
   "source": [
    "# 7. Tampil plot loss dan akurasi\n",
    "\n",
    "# Plot training & validation accuracy values\n",
    "plt.figure(figsize=(10, 5))\n",
    "plt.plot(history.history['accuracy'])\n",
    "plt.title('Model accuracy')\n",
    "plt.ylabel('Accuracy')\n",
    "plt.xlabel('Epoch')\n",
    "plt.legend(['Train', 'Validation'], loc='upper left')\n",
    "plt.show()\n",
    "\n",
    "# Plot training & validation loss values\n",
    "plt.figure(figsize=(10, 5))\n",
    "plt.plot(history.history['loss'])\n",
    "plt.title('Model loss')\n",
    "plt.ylabel('Loss')\n",
    "plt.xlabel('Epoch')\n",
    "plt.legend(['Train', 'Validation'], loc='upper left')\n",
    "plt.show()"
   ]
  },
  {
   "cell_type": "code",
   "execution_count": null,
   "metadata": {
    "id": "pmBiO5wJS647"
   },
   "outputs": [],
   "source": [
    "# 8. Implementasi keyword matching untuk meningkatkan prediksi\n",
    "def keyword_based_classifier(text, category_keywords, label_encoder):\n",
    "    # Cek kategori berdasarkan kata kunci\n",
    "    category_scores = {category: 0 for category in category_keywords}\n",
    "\n",
    "    for category, keywords in category_keywords.items():\n",
    "        # Hitung kemunculan kata kunci dalam teks\n",
    "        category_scores[category] = sum([word in text.lower() for word in keywords])\n",
    "\n",
    "    # Tentukan kategori berdasarkan skor tertinggi kata kunci\n",
    "    keyword_based_prediction = max(category_scores, key=category_scores.get)\n",
    "\n",
    "    # Konversi hasil keyword ke label numerik\n",
    "    predicted_label = label_encoder.transform([keyword_based_prediction])[0]\n",
    "\n",
    "    return predicted_label, keyword_based_prediction"
   ]
  },
  {
   "cell_type": "code",
   "execution_count": null,
   "metadata": {
    "id": "Sc2YGzzbTH0N"
   },
   "outputs": [],
   "source": [
    "# 9. Kombinasi hasil model dengan keyword-based prediction\n",
    "def combined_predict(text, model, tokenizer, label_encoder, category_keywords):\n",
    "    # Prediksi dengan model LSTM\n",
    "    text_seq = tokenizer.texts_to_sequences([text])\n",
    "    text_padded = tf.keras.utils.pad_sequences(text_seq, maxlen=max_sequence_length, padding='post')\n",
    "    lstm_prediction = model.predict(text_padded)\n",
    "    predicted_label_lstm = np.argmax(lstm_prediction, axis=1)\n",
    "    predicted_label_lstm = label_encoder.inverse_transform(predicted_label_lstm)[0]\n",
    "\n",
    "    # Prediksi dengan keyword-based\n",
    "    predicted_label_keywords, keyword_prediction = keyword_based_classifier(text, category_keywords, label_encoder)\n",
    "\n",
    "    probabilities = model.predict(text_padded) # Prediksi probabilitas\n",
    "    confidence_in_lstm = max(probabilities[0])  # Ambil nilai tertinggi sebagai tingkat kepercayaan\n",
    "\n",
    "    if confidence_in_lstm > 0.8:\n",
    "        return predicted_label_lstm, \"Prediksi berdasarkan LSTM\"\n",
    "    else:\n",
    "        return keyword_prediction, \"Prediksi berdasarkan kata kunci\""
   ]
  },
  {
   "cell_type": "code",
   "execution_count": null,
   "metadata": {
    "colab": {
     "base_uri": "https://localhost:8080/"
    },
    "id": "V6A8cf9aPIaC",
    "outputId": "dc1abbd8-5616-4db2-935a-65f3387f53b0"
   },
   "outputs": [
    {
     "name": "stdout",
     "output_type": "stream",
     "text": [
      "\u001b[1m1/1\u001b[0m \u001b[32m━━━━━━━━━━━━━━━━━━━━\u001b[0m\u001b[37m\u001b[0m \u001b[1m0s\u001b[0m 179ms/step\n",
      "\u001b[1m1/1\u001b[0m \u001b[32m━━━━━━━━━━━━━━━━━━━━\u001b[0m\u001b[37m\u001b[0m \u001b[1m0s\u001b[0m 21ms/step\n",
      "Teks: keramik pecah\n",
      "Prediksi LSTM: Reparasi lantai dan dinding\n",
      "Pesan: Prediksi berdasarkan LSTM\n"
     ]
    }
   ],
   "source": [
    "# 10. Testing\n",
    "text_input = \"keramik pecah\"\n",
    "predicted_label, message = combined_predict(text_input, model, tokenizer, label_encoder, category_keywords)\n",
    "\n",
    "print(f\"Teks: {text_input}\")\n",
    "print(f\"Prediksi LSTM: {predicted_label}\")\n",
    "print(f\"Pesan: {message}\")"
   ]
  },
  {
   "cell_type": "markdown",
   "metadata": {
    "id": "oEE6homSXmmU"
   },
   "source": [
    "### Evaluasi Model Klasifikasi RNN"
   ]
  },
  {
   "cell_type": "code",
   "execution_count": 36,
   "metadata": {
    "colab": {
     "base_uri": "https://localhost:8080/"
    },
    "id": "FBNOzyCoYkQF",
    "outputId": "b5fd5f6a-dc2e-4150-daef-bb7f66d70f11"
   },
   "outputs": [
    {
     "name": "stdout",
     "output_type": "stream",
     "text": [
      "\u001b[1m1/1\u001b[0m \u001b[32m━━━━━━━━━━━━━━━━━━━━\u001b[0m\u001b[37m\u001b[0m \u001b[1m0s\u001b[0m 21ms/step\n",
      "\n",
      "Evaluasi Model RNN:\n",
      "Akurasi  : 1.0000\n",
      "Presisi  : 1.0000\n",
      "Recall   : 1.0000\n",
      "F1-score : 1.0000\n"
     ]
    }
   ],
   "source": [
    "# Menggunakan model RNN untuk membuat prediksi pada data input yang telah diproses\n",
    "# Asumsikan X_padded adalah data input yang telah diproses dan siap digunakan oleh model RNN\n",
    "\n",
    "# Prediksi probabilitas untuk setiap kelas menggunakan model RNN\n",
    "y_pred_rnn_probs = model.predict(X_padded)\n",
    "\n",
    "# Menentukan label prediksi berdasarkan indeks probabilitas tertinggi (kelas dengan skor tertinggi)\n",
    "y_pred_rnn = np.argmax(y_pred_rnn_probs, axis=1)\n",
    "\n",
    "# Mengubah label prediksi dari indeks numerik kembali ke nama kategori asli\n",
    "y_pred_rnn = label_encoder.inverse_transform(y_pred_rnn)\n",
    "\n",
    "# Mengonversi label prediksi kembali ke format numerik untuk evaluasi\n",
    "y_pred_rnn_numeric = label_encoder.transform(list(y_pred_rnn))\n",
    "\n",
    "# Menghitung metrik evaluasi model menggunakan label prediksi dan label sebenarnya (y)\n",
    "accuracy_rnn = accuracy_score(y, y_pred_rnn_numeric)\n",
    "precision_rnn = precision_score(y, y_pred_rnn_numeric, average='weighted')\n",
    "recall_rnn = recall_score(y, y_pred_rnn_numeric, average='weighted')\n",
    "f1_rnn = f1_score(y, y_pred_rnn_numeric, average='weighted')\n",
    "\n",
    "# Tampil hasil evaluasi model RNN\n",
    "print(\"\\nEvaluasi Model RNN:\")\n",
    "print(f\"Akurasi  : {accuracy_rnn:.4f}\")\n",
    "print(f\"Presisi  : {precision_rnn:.4f}\")\n",
    "print(f\"Recall   : {recall_rnn:.4f}\")\n",
    "print(f\"F1-score : {f1_rnn:.4f}\")"
   ]
  },
  {
   "cell_type": "markdown",
   "metadata": {
    "id": "kdXwFodrP9ia"
   },
   "source": [
    "### Error Analysis (Confusion Matrix)"
   ]
  },
  {
   "cell_type": "code",
   "execution_count": 37,
   "metadata": {
    "colab": {
     "base_uri": "https://localhost:8080/",
     "height": 607
    },
    "id": "H1bbCTWIYmcx",
    "outputId": "0c058381-8f65-44b7-9519-489c27ab345c"
   },
   "outputs": [
    {
     "data": {
      "image/png": "[encoded data removed]",
      "text/plain": [
       "<Figure size 1200x600 with 2 Axes>"
      ]
     },
     "metadata": {},
     "output_type": "display_data"
    }
   ],
   "source": [
    "# Mengonversi prediksi model RNN (nama kategori) menjadi label numerik sebelum menghitung confusion matrix\n",
    "y_pred_rnn_numeric = label_encoder.transform(list(y_pred_rnn))\n",
    "\n",
    "# Menghitung confusion matrix untuk model RNN\n",
    "cm_rnn = confusion_matrix(y, y_pred_rnn_numeric)\n",
    "\n",
    "# Visualisasi confusion matrix menggunakan heatmap\n",
    "plt.figure(figsize=(12, 6))\n",
    "\n",
    "# Plot confusion matrix untuk model RNN\n",
    "plt.subplot(1, 2, 2)\n",
    "sns.heatmap(cm_rnn, annot=True, fmt=\"d\", cmap=\"Blues\",\n",
    "            xticklabels=label_encoder.classes_, yticklabels=label_encoder.classes_)\n",
    "plt.title(\"Confusion Matrix: RNN\")\n",
    "plt.xlabel(\"Predicted Labels\")\n",
    "plt.ylabel(\"True Labels\")\n",
    "plt.tight_layout()\n",
    "plt.show()"
   ]
  },
  {
   "cell_type": "markdown",
   "metadata": {
    "id": "7kmyZIcfZwyj"
   },
   "source": [
    "### Save Model"
   ]
  },
  {
   "cell_type": "code",
   "execution_count": null,
   "metadata": {
    "colab": {
     "base_uri": "https://localhost:8080/"
    },
    "id": "Wfim9SV8Z6io",
    "outputId": "b5fb6cab-07d0-48eb-eae0-72890e724754"
   },
   "outputs": [
    {
     "name": "stderr",
     "output_type": "stream",
     "text": [
      "WARNING:absl:You are saving your model as an HDF5 file via `model.save()` or `keras.saving.save_model(model)`. This file format is considered legacy. We recommend using instead the native Keras format, e.g. `model.save('my_model.keras')` or `keras.saving.save_model(model, 'my_model.keras')`. \n"
     ]
    }
   ],
   "source": [
    "# save model ke format .h5\n",
    "model.save('rnn_model.h5')"
   ]
  },
  {
   "cell_type": "code",
   "execution_count": null,
   "metadata": {},
   "outputs": [],
   "source": [
    "# save model .pkl dan konversi ke tfjs untuk deployment tanpa flask (opsional)\n",
    "\n",
    "# Save the Decision Logic model\n",
    "# filename_decision = 'dl_model.pkl'\n",
    "# pickle.dump(nn_model, open(filename_decision, 'wb'))\n",
    "\n",
    "# # Convert the RNN model to TensorFlow.js\n",
    "# !pip install tensorflowjs\n",
    "\n",
    "# !mkdir model_tfjs\n",
    "# !tensorflowjs_converter --input_format keras rnn_model.h5 model_tfjs"
   ]
  }
 ],
 "metadata": {
  "colab": {
   "provenance": []
  },
  "kernelspec": {
   "display_name": "Python 3",
   "name": "python3"
  },
  "language_info": {
   "name": "python"
  }
 },
 "nbformat": 4,
 "nbformat_minor": 0
}
